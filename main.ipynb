{
 "cells": [
  {
   "cell_type": "code",
   "execution_count": 92,
   "id": "c43ce03c-cc03-4f4c-83a4-24792cf279f9",
   "metadata": {},
   "outputs": [
    {
     "data": {
      "text/html": [
       "<div>\n",
       "<style scoped>\n",
       "    .dataframe tbody tr th:only-of-type {\n",
       "        vertical-align: middle;\n",
       "    }\n",
       "\n",
       "    .dataframe tbody tr th {\n",
       "        vertical-align: top;\n",
       "    }\n",
       "\n",
       "    .dataframe thead th {\n",
       "        text-align: right;\n",
       "    }\n",
       "</style>\n",
       "<table border=\"1\" class=\"dataframe\">\n",
       "  <thead>\n",
       "    <tr style=\"text-align: right;\">\n",
       "      <th></th>\n",
       "      <th>text</th>\n",
       "      <th>category</th>\n",
       "    </tr>\n",
       "  </thead>\n",
       "  <tbody>\n",
       "    <tr>\n",
       "      <th>0</th>\n",
       "      <td>كارشناسان مناطق نفت خيز جنوب با انتشار بياني...</td>\n",
       "      <td>Strategic</td>\n",
       "    </tr>\n",
       "    <tr>\n",
       "      <th>1</th>\n",
       "      <td>يافته‌هاي پژوهشگران فيزيك پزشكي دانشگاه تربي...</td>\n",
       "      <td>Tech</td>\n",
       "    </tr>\n",
       "    <tr>\n",
       "      <th>2</th>\n",
       "      <td>﻿  به گزارش خبرگزاري دانشجويان ايران (ايسنا)، ...</td>\n",
       "      <td>Sports</td>\n",
       "    </tr>\n",
       "    <tr>\n",
       "      <th>3</th>\n",
       "      <td>﻿  در اين نشست مهندس جليل حبيب اللهيان، مدير ن...</td>\n",
       "      <td>Sociology</td>\n",
       "    </tr>\n",
       "    <tr>\n",
       "      <th>4</th>\n",
       "      <td>تا وقتي نيروي كار كشور زير حداقل معيشت به سر...</td>\n",
       "      <td>Economics</td>\n",
       "    </tr>\n",
       "  </tbody>\n",
       "</table>\n",
       "</div>"
      ],
      "text/plain": [
       "                                                text   category\n",
       "0    كارشناسان مناطق نفت خيز جنوب با انتشار بياني...  Strategic\n",
       "1    يافته‌هاي پژوهشگران فيزيك پزشكي دانشگاه تربي...       Tech\n",
       "2  ﻿  به گزارش خبرگزاري دانشجويان ايران (ايسنا)، ...     Sports\n",
       "3  ﻿  در اين نشست مهندس جليل حبيب اللهيان، مدير ن...  Sociology\n",
       "4    تا وقتي نيروي كار كشور زير حداقل معيشت به سر...  Economics"
      ]
     },
     "execution_count": 92,
     "metadata": {},
     "output_type": "execute_result"
    }
   ],
   "source": [
    "import pandas as pd\n",
    "import numpy as np\n",
    "import glob\n",
    "\n",
    "\n",
    "TRAIN_PATH = \"Dataset/Train/\"\n",
    "TEST_PATH = \"Dataset/Test/\"\n",
    "\n",
    "categories = [\n",
    "    'Economics',\n",
    "    'Sociology',\n",
    "    'Sports',\n",
    "    'Religions',\n",
    "    'Tech',\n",
    "    'Strategic',\n",
    "    'Politics'\n",
    "]\n",
    "\n",
    "with open('Dataset/Train/Economics/13860321-txt-0940314_utf.txt', 'r', encoding = 'utf-8') as file:\n",
    "    data = file.read().replace('\\n', ' ')\n",
    "\n",
    "df = pd.DataFrame(columns=[\"text\", \"category\"])\n",
    "\n",
    "for category in categories:\n",
    "    all_files = glob.glob(TRAIN_PATH + category + \"/*.txt\")\n",
    "    for file in all_files:\n",
    "        with open(file, 'r', encoding = 'utf-8') as file:\n",
    "            text = file.read().replace('\\n', ' ')\n",
    "        df.loc[len(df)] = [text, category]\n",
    "\n",
    "df = df.sample(frac=1).reset_index(drop=True) # shuffling the dataset\n",
    "df.head()"
   ]
  },
  {
   "cell_type": "code",
   "execution_count": null,
   "id": "86dce547-3f62-4553-9130-ecfe37d48230",
   "metadata": {},
   "outputs": [],
   "source": []
  }
 ],
 "metadata": {
  "kernelspec": {
   "display_name": "Python 3",
   "language": "python",
   "name": "python3"
  },
  "language_info": {
   "codemirror_mode": {
    "name": "ipython",
    "version": 3
   },
   "file_extension": ".py",
   "mimetype": "text/x-python",
   "name": "python",
   "nbconvert_exporter": "python",
   "pygments_lexer": "ipython3",
   "version": "3.8.6"
  }
 },
 "nbformat": 4,
 "nbformat_minor": 5
}
