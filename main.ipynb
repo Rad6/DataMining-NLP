{
 "cells": [
  {
   "cell_type": "code",
   "execution_count": 173,
   "id": "c43ce03c-cc03-4f4c-83a4-24792cf279f9",
   "metadata": {},
   "outputs": [
    {
     "data": {
      "text/html": [
       "<div>\n",
       "<style scoped>\n",
       "    .dataframe tbody tr th:only-of-type {\n",
       "        vertical-align: middle;\n",
       "    }\n",
       "\n",
       "    .dataframe tbody tr th {\n",
       "        vertical-align: top;\n",
       "    }\n",
       "\n",
       "    .dataframe thead th {\n",
       "        text-align: right;\n",
       "    }\n",
       "</style>\n",
       "<table border=\"1\" class=\"dataframe\">\n",
       "  <thead>\n",
       "    <tr style=\"text-align: right;\">\n",
       "      <th></th>\n",
       "      <th>text</th>\n",
       "      <th>category</th>\n",
       "    </tr>\n",
       "  </thead>\n",
       "  <tbody>\n",
       "    <tr>\n",
       "      <th>0</th>\n",
       "      <td>مدير بانك خون بند ناف پژوهشگاه رويان جهاد دا...</td>\n",
       "      <td>Tech</td>\n",
       "    </tr>\n",
       "    <tr>\n",
       "      <th>1</th>\n",
       "      <td>شروين تقوي، دانشجوي دكتري مهندسي برق دانشگاه...</td>\n",
       "      <td>Tech</td>\n",
       "    </tr>\n",
       "    <tr>\n",
       "      <th>2</th>\n",
       "      <td>پانزده تن از استادان دانشگاه و كارشناسان اقت...</td>\n",
       "      <td>Economics</td>\n",
       "    </tr>\n",
       "    <tr>\n",
       "      <th>3</th>\n",
       "      <td>اشاره: آنچه كه در پي مي‌آيد &amp;amp;nbsp;اولين ...</td>\n",
       "      <td>Strategic</td>\n",
       "    </tr>\n",
       "    <tr>\n",
       "      <th>4</th>\n",
       "      <td>دكتر سيد حسين نصر، &amp;amp;nbsp;آسيب‌شناسي ديني...</td>\n",
       "      <td>Religions</td>\n",
       "    </tr>\n",
       "  </tbody>\n",
       "</table>\n",
       "</div>"
      ],
      "text/plain": [
       "                                                text   category\n",
       "0    مدير بانك خون بند ناف پژوهشگاه رويان جهاد دا...       Tech\n",
       "1    شروين تقوي، دانشجوي دكتري مهندسي برق دانشگاه...       Tech\n",
       "2    پانزده تن از استادان دانشگاه و كارشناسان اقت...  Economics\n",
       "3    اشاره: آنچه كه در پي مي‌آيد &amp;nbsp;اولين ...  Strategic\n",
       "4    دكتر سيد حسين نصر، &amp;nbsp;آسيب‌شناسي ديني...  Religions"
      ]
     },
     "execution_count": 173,
     "metadata": {},
     "output_type": "execute_result"
    }
   ],
   "source": [
    "import pandas as pd\n",
    "import numpy as np\n",
    "import glob\n",
    "from sklearn.model_selection import train_test_split\n",
    "from sklearn.feature_extraction.text import CountVectorizer\n",
    "from sklearn.feature_extraction.text import TfidfTransformer\n",
    "from sklearn.naive_bayes import MultinomialNB\n",
    "from sklearn.metrics import accuracy_score\n",
    "from hazm import Normalizer\n",
    "\n",
    "\n",
    "TRAIN_PATH = \"Dataset/Train/\"\n",
    "TEST_PATH = \"Dataset/Test/\"\n",
    "\n",
    "categories = [\n",
    "    'Economics',\n",
    "    'Sociology',\n",
    "    'Sports',\n",
    "    'Religions',\n",
    "    'Tech',\n",
    "    'Strategic',\n",
    "    'Politics'\n",
    "]\n",
    "\n",
    "normalizer = Normalizer()\n",
    "\n",
    "df_train = pd.DataFrame(columns=[\"text\", \"category\"])\n",
    "df_test = pd.DataFrame(columns=[\"text\", \"category\"])\n",
    "\n",
    "for category in categories:\n",
    "    all_files = glob.glob(TRAIN_PATH + category + \"/*.txt\")\n",
    "    for file in all_files:\n",
    "        with open(file, 'r', encoding = 'utf-8') as file:\n",
    "            text = file.read().replace('\\n', ' ')\n",
    "            normalizer.normalize(text)\n",
    "        df_train.loc[len(df_train)] = [text, category]\n",
    "\n",
    "for category in categories:\n",
    "    all_files = glob.glob(TEST_PATH + category + \"/*.txt\")\n",
    "    for file in all_files:\n",
    "        with open(file, 'r', encoding = 'utf-8') as file:\n",
    "            text = file.read().replace('\\n', ' ')\n",
    "            normalizer.normalize(text)\n",
    "        df_test.loc[len(df_test)] = [text, category]\n",
    "\n",
    "with open('persian-stopwords',  encoding = 'utf-8') as f:\n",
    "    content = f.readlines()\n",
    "stop_words = [x.strip() for x in content]\n",
    "\n",
    "df.head()"
   ]
  },
  {
   "cell_type": "code",
   "execution_count": 174,
   "id": "86dce547-3f62-4553-9130-ecfe37d48230",
   "metadata": {},
   "outputs": [
    {
     "name": "stdout",
     "output_type": "stream",
     "text": [
      "14\n",
      "accuracy: 0.7142857142857143\n"
     ]
    },
    {
     "name": "stderr",
     "output_type": "stream",
     "text": [
      "c:\\users\\hadi\\appdata\\local\\programs\\python\\python38\\lib\\site-packages\\sklearn\\feature_extraction\\text.py:388: UserWarning: Your stop_words may be inconsistent with your preprocessing. Tokenizing the stop words generated tokens ['آسانی', 'آسیب', 'اثر', 'احیانا', 'اخیرا', 'ازاین', 'اسلامی', 'اطلاعند', 'الاسف', 'البت', 'الظاهر', 'بااین', 'بازی', 'باوجودی', 'برآن', 'برنامه', 'بسته', 'بطوری', 'بفهمی', 'تازگی', 'تحریم', 'تدریج', 'ترتیب', 'تردید', 'ترند', 'تصریحا', 'تفاوتند', 'تند', 'توؤما', 'تول', 'تک', 'تی', 'ثالثا', 'ثانی', 'جمع', 'جمله', 'جنس', 'جوری', 'حاشیه', 'حسابی', 'حکما', 'خارج', 'خسته', 'خوبی', 'خودبه', 'خودی', 'داند', 'دراین', 'درحالی', 'درشتی', 'درصورتی', 'درعین', 'درپی', 'دسته', 'دلخواه', 'دنبال', 'دیوانه', 'ذاتا', 'ذلک', 'راجع', 'رسد', 'رغم', 'رود', 'روزه', 'روشنی', 'زده', 'زودی', 'ساده', 'سادگی', 'سازهاست', 'سالم', 'ساله', 'ست', 'سرعت', 'سمت', 'سه', 'سهوا', 'سیاه', 'شاأالله', 'شدت', 'صریحا', 'صندوق', 'ضد', 'ضمنا', 'طبق', 'طوری', 'عل', 'علاوه', 'علنا', 'علی', 'عملی', 'عینا', 'قاعدتا', 'قانونا', 'قد', 'قصد', 'لا', 'لزوما', 'مامان', 'مجموع', 'مخصوصا', 'مد', 'مذهبی', 'مراتب', 'مشترکا', 'مع', 'مکررا', 'ناراضی', 'ناچار', 'نفهمی', 'نهایت', 'نوعا', 'نیازمندانه', 'هاست', 'هدف', 'هرحال', 'هق', 'وابسته', 'واقع', 'وجه', 'وحشت', 'وسط', 'وضوح', 'پاره', 'پاعین', 'پایین', 'پذیرند', 'پشتوانه', 'پهن', 'چاله', 'چشم', 'کرات', 'کما', 'کنان', 'کنایه', 'گرمی', 'گویان', 'یواش'] not in stop_words.\n",
      "  warnings.warn('Your stop_words may be inconsistent with '\n"
     ]
    }
   ],
   "source": [
    "X_train = df_train['text']\n",
    "y_train = df_train['category']\n",
    "\n",
    "X_test = df_test['text']\n",
    "y_test = df_test['category']\n",
    "print(len(y_test))\n",
    "\n",
    "# X_train, X_test, y_train, y_test = train_test_split(df['text'], df['category'], random_state = 0)\n",
    "count_vect = CountVectorizer(stop_words=stop_words)\n",
    "X_train_counts = count_vect.fit_transform(X_train)\n",
    "tfidf_transformer = TfidfTransformer()\n",
    "X_train_tfidf = tfidf_transformer.fit_transform(X_train_counts)\n",
    "clf = MultinomialNB().fit(X_train_tfidf, y_train)\n",
    "\n",
    "result = clf.predict(count_vect.transform(X_test))\n",
    "print(\"accuracy: \" + str(accuracy_score(y_test, result)))"
   ]
  }
 ],
 "metadata": {
  "kernelspec": {
   "display_name": "Python 3",
   "language": "python",
   "name": "python3"
  },
  "language_info": {
   "codemirror_mode": {
    "name": "ipython",
    "version": 3
   },
   "file_extension": ".py",
   "mimetype": "text/x-python",
   "name": "python",
   "nbconvert_exporter": "python",
   "pygments_lexer": "ipython3",
   "version": "3.8.6"
  }
 },
 "nbformat": 4,
 "nbformat_minor": 5
}
